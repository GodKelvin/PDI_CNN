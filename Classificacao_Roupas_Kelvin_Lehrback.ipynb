{
 "cells": [
  {
   "cell_type": "markdown",
   "id": "a652ebcd",
   "metadata": {},
   "source": [
    "### Treina um modelo de rede neural para classificação de imagens de roupas, como tênis e camisetas"
   ]
  },
  {
   "cell_type": "markdown",
   "id": "1a732627",
   "metadata": {},
   "source": [
    "## Importando as bibliotecas necessárias"
   ]
  },
  {
   "cell_type": "code",
   "execution_count": 1,
   "id": "3570f67b",
   "metadata": {},
   "outputs": [
    {
     "name": "stderr",
     "output_type": "stream",
     "text": [
      "/home/kelvin/.local/lib/python3.6/site-packages/tensorflow/python/framework/dtypes.py:516: FutureWarning: Passing (type, 1) or '1type' as a synonym of type is deprecated; in a future version of numpy, it will be understood as (type, (1,)) / '(1,)type'.\n",
      "  _np_qint8 = np.dtype([(\"qint8\", np.int8, 1)])\n",
      "/home/kelvin/.local/lib/python3.6/site-packages/tensorflow/python/framework/dtypes.py:517: FutureWarning: Passing (type, 1) or '1type' as a synonym of type is deprecated; in a future version of numpy, it will be understood as (type, (1,)) / '(1,)type'.\n",
      "  _np_quint8 = np.dtype([(\"quint8\", np.uint8, 1)])\n",
      "/home/kelvin/.local/lib/python3.6/site-packages/tensorflow/python/framework/dtypes.py:518: FutureWarning: Passing (type, 1) or '1type' as a synonym of type is deprecated; in a future version of numpy, it will be understood as (type, (1,)) / '(1,)type'.\n",
      "  _np_qint16 = np.dtype([(\"qint16\", np.int16, 1)])\n",
      "/home/kelvin/.local/lib/python3.6/site-packages/tensorflow/python/framework/dtypes.py:519: FutureWarning: Passing (type, 1) or '1type' as a synonym of type is deprecated; in a future version of numpy, it will be understood as (type, (1,)) / '(1,)type'.\n",
      "  _np_quint16 = np.dtype([(\"quint16\", np.uint16, 1)])\n",
      "/home/kelvin/.local/lib/python3.6/site-packages/tensorflow/python/framework/dtypes.py:520: FutureWarning: Passing (type, 1) or '1type' as a synonym of type is deprecated; in a future version of numpy, it will be understood as (type, (1,)) / '(1,)type'.\n",
      "  _np_qint32 = np.dtype([(\"qint32\", np.int32, 1)])\n",
      "/home/kelvin/.local/lib/python3.6/site-packages/tensorflow/python/framework/dtypes.py:525: FutureWarning: Passing (type, 1) or '1type' as a synonym of type is deprecated; in a future version of numpy, it will be understood as (type, (1,)) / '(1,)type'.\n",
      "  np_resource = np.dtype([(\"resource\", np.ubyte, 1)])\n"
     ]
    },
    {
     "name": "stdout",
     "output_type": "stream",
     "text": [
      "1.14.0\n"
     ]
    },
    {
     "name": "stderr",
     "output_type": "stream",
     "text": [
      "/home/kelvin/.local/lib/python3.6/site-packages/tensorboard/compat/tensorflow_stub/dtypes.py:541: FutureWarning: Passing (type, 1) or '1type' as a synonym of type is deprecated; in a future version of numpy, it will be understood as (type, (1,)) / '(1,)type'.\n",
      "  _np_qint8 = np.dtype([(\"qint8\", np.int8, 1)])\n",
      "/home/kelvin/.local/lib/python3.6/site-packages/tensorboard/compat/tensorflow_stub/dtypes.py:542: FutureWarning: Passing (type, 1) or '1type' as a synonym of type is deprecated; in a future version of numpy, it will be understood as (type, (1,)) / '(1,)type'.\n",
      "  _np_quint8 = np.dtype([(\"quint8\", np.uint8, 1)])\n",
      "/home/kelvin/.local/lib/python3.6/site-packages/tensorboard/compat/tensorflow_stub/dtypes.py:543: FutureWarning: Passing (type, 1) or '1type' as a synonym of type is deprecated; in a future version of numpy, it will be understood as (type, (1,)) / '(1,)type'.\n",
      "  _np_qint16 = np.dtype([(\"qint16\", np.int16, 1)])\n",
      "/home/kelvin/.local/lib/python3.6/site-packages/tensorboard/compat/tensorflow_stub/dtypes.py:544: FutureWarning: Passing (type, 1) or '1type' as a synonym of type is deprecated; in a future version of numpy, it will be understood as (type, (1,)) / '(1,)type'.\n",
      "  _np_quint16 = np.dtype([(\"quint16\", np.uint16, 1)])\n",
      "/home/kelvin/.local/lib/python3.6/site-packages/tensorboard/compat/tensorflow_stub/dtypes.py:545: FutureWarning: Passing (type, 1) or '1type' as a synonym of type is deprecated; in a future version of numpy, it will be understood as (type, (1,)) / '(1,)type'.\n",
      "  _np_qint32 = np.dtype([(\"qint32\", np.int32, 1)])\n",
      "/home/kelvin/.local/lib/python3.6/site-packages/tensorboard/compat/tensorflow_stub/dtypes.py:550: FutureWarning: Passing (type, 1) or '1type' as a synonym of type is deprecated; in a future version of numpy, it will be understood as (type, (1,)) / '(1,)type'.\n",
      "  np_resource = np.dtype([(\"resource\", np.ubyte, 1)])\n"
     ]
    }
   ],
   "source": [
    "#TensforFlow e tf.keras\n",
    "import tensorflow as tf\n",
    "from tensorflow import keras\n",
    "\n",
    "#Bibliotecas Auxiliares\n",
    "import numpy as np\n",
    "import matplotlib.pyplot as plt\n",
    "\n",
    "print(tf.__version__)"
   ]
  },
  {
   "cell_type": "markdown",
   "id": "8319fff8",
   "metadata": {},
   "source": [
    "## Importando a base de dados Fashion MNIST\n"
   ]
  },
  {
   "cell_type": "code",
   "execution_count": 2,
   "id": "05cb0407",
   "metadata": {},
   "outputs": [],
   "source": [
    "fashion_mnist = keras.datasets.fashion_mnist\n",
    "#Dados usados para aprender // dados usadas para testar\n",
    "(train_images, train_labels), (test_images, test_labels) = fashion_mnist.load_data()"
   ]
  },
  {
   "cell_type": "markdown",
   "id": "eef2a27d",
   "metadata": {},
   "source": [
    "### Armazenando as labels"
   ]
  },
  {
   "cell_type": "code",
   "execution_count": 3,
   "id": "2f6d8ae8",
   "metadata": {},
   "outputs": [],
   "source": [
    "class_names = ['T-shirt/top', 'Trouser', 'Pullover', 'Dress', 'Coat',\n",
    "               'Sandal', 'Shirt', 'Sneaker', 'Bag', 'Ankle boot']"
   ]
  },
  {
   "cell_type": "markdown",
   "id": "a25a27af",
   "metadata": {},
   "source": [
    "## Explorando os dados\n"
   ]
  },
  {
   "cell_type": "code",
   "execution_count": 4,
   "id": "d7a572a7",
   "metadata": {},
   "outputs": [
    {
     "data": {
      "text/plain": [
       "(60000, 28, 28)"
      ]
     },
     "execution_count": 4,
     "metadata": {},
     "output_type": "execute_result"
    }
   ],
   "source": [
    "#Quantidade de imagens / Tamanho em pixels (28x28)\n",
    "train_images.shape"
   ]
  },
  {
   "cell_type": "code",
   "execution_count": 5,
   "id": "c2949a7a",
   "metadata": {},
   "outputs": [
    {
     "data": {
      "text/plain": [
       "60000"
      ]
     },
     "execution_count": 5,
     "metadata": {},
     "output_type": "execute_result"
    }
   ],
   "source": [
    "#Quantidade de Labels no conkinto de treinamento\n",
    "len(train_labels)"
   ]
  },
  {
   "cell_type": "code",
   "execution_count": 6,
   "id": "ce728f3f",
   "metadata": {},
   "outputs": [
    {
     "data": {
      "text/plain": [
       "array([9, 0, 0, ..., 3, 0, 5], dtype=uint8)"
      ]
     },
     "execution_count": 6,
     "metadata": {},
     "output_type": "execute_result"
    }
   ],
   "source": [
    "#Cada label eh um inteiro entre 0 e 9\n",
    "train_labels"
   ]
  },
  {
   "cell_type": "code",
   "execution_count": 7,
   "id": "b3180b93",
   "metadata": {},
   "outputs": [
    {
     "data": {
      "text/plain": [
       "(10000, 28, 28)"
      ]
     },
     "execution_count": 7,
     "metadata": {},
     "output_type": "execute_result"
    }
   ],
   "source": [
    "#10000 imagens no cojunto de testes, cada uma de tamanho 28x28 pixels\n",
    "test_images.shape"
   ]
  },
  {
   "cell_type": "code",
   "execution_count": 8,
   "id": "2424ddb6",
   "metadata": {},
   "outputs": [
    {
     "data": {
      "text/plain": [
       "10000"
      ]
     },
     "execution_count": 8,
     "metadata": {},
     "output_type": "execute_result"
    }
   ],
   "source": [
    "#E um conjunto de teste contendo 10000 labels das imagens\n",
    "len(test_labels)"
   ]
  },
  {
   "cell_type": "markdown",
   "id": "72dc1baa",
   "metadata": {},
   "source": [
    "## Reshape"
   ]
  },
  {
   "cell_type": "markdown",
   "id": "2d094a96",
   "metadata": {},
   "source": [
    "### Necessário ao usar uma rede convolucional"
   ]
  },
  {
   "cell_type": "code",
   "execution_count": 9,
   "id": "c3da2819",
   "metadata": {},
   "outputs": [
    {
     "name": "stdout",
     "output_type": "stream",
     "text": [
      "(60000, 28, 28, 1)\n",
      "(10000, 28, 28, 1)\n"
     ]
    }
   ],
   "source": [
    "train_images = train_images.reshape(train_images.shape[0], 28, 28, 1)\n",
    "print(train_images.shape)\n",
    "\n",
    "test_images = test_images.reshape(test_images.shape[0], 28, 28, 1)\n",
    "print(test_images.shape)"
   ]
  },
  {
   "cell_type": "markdown",
   "id": "1eb62996",
   "metadata": {},
   "source": [
    "## Pré-processamento dos dados"
   ]
  },
  {
   "cell_type": "markdown",
   "id": "8a0b3b73",
   "metadata": {},
   "source": [
    "### Os valores dos pixels nas imagens estão entre 0 e 255, portanto vamos escalar para o intervalo de 0 e 1.\n"
   ]
  },
  {
   "cell_type": "code",
   "execution_count": 10,
   "id": "9700bab5",
   "metadata": {},
   "outputs": [
    {
     "data": {
      "image/png": "[encoded data removed]",
      "text/plain": [
       "<Figure size 432x288 with 2 Axes>"
      ]
     },
     "metadata": {
      "needs_background": "light"
     },
     "output_type": "display_data"
    }
   ],
   "source": [
    "#Inspecionando a primeira imagem, por exemplo\n",
    "plt.figure()\n",
    "plt.imshow(train_images[0])\n",
    "plt.colorbar()\n",
    "plt.grid(False)\n",
    "plt.show()\n",
    "\n",
    "#Dividindo os valores por 255, para escalar as imagens\n",
    "train_images = train_images / 255.0\n",
    "test_images = test_images / 255.0"
   ]
  },
  {
   "cell_type": "markdown",
   "id": "b5d553ee",
   "metadata": {},
   "source": [
    "### Verificando se os dados estão no formato correto. Mostrando as 25 primeiras imagens."
   ]
  },
  {
   "cell_type": "code",
   "execution_count": 11,
   "id": "613a8196",
   "metadata": {},
   "outputs": [
    {
     "data": {
      "image/png": "[encoded data removed]",
      "text/plain": [
       "<Figure size 720x720 with 25 Axes>"
      ]
     },
     "metadata": {},
     "output_type": "display_data"
    }
   ],
   "source": [
    "plt.figure(figsize=(10, 10))\n",
    "for i in range(25):\n",
    "    #Formatando cada subplot\n",
    "    plt.subplot(5,5, i+1)\n",
    "    plt.xticks([])\n",
    "    plt.yticks([])\n",
    "    plt.grid(False)\n",
    "    plt.imshow(train_images[i], cmap=plt.cm.binary)\n",
    "    plt.xlabel(class_names[train_labels[i]])\n",
    "plt.show()"
   ]
  },
  {
   "cell_type": "markdown",
   "id": "baf5393c",
   "metadata": {},
   "source": [
    "## Construção do modelo\n",
    "### Construir a rede neural requer configurar as camadas do modelo, e depois, compilar o modelo"
   ]
  },
  {
   "cell_type": "markdown",
   "id": "cd37a9a6",
   "metadata": {},
   "source": [
    "### Antes"
   ]
  },
  {
   "cell_type": "code",
   "execution_count": 12,
   "id": "17351a0a",
   "metadata": {},
   "outputs": [
    {
     "data": {
      "text/plain": [
       "\"\\nmodel = keras.Sequential([\\n    keras.layers.Flatten(input_shape=(28, 28)),\\n    keras.layers.Dense(128, activation='relu'),\\n    keras.layers.Dense(10, activation='softmax')\\n])\\n\""
      ]
     },
     "execution_count": 12,
     "metadata": {},
     "output_type": "execute_result"
    }
   ],
   "source": [
    "'''\n",
    "model = keras.Sequential([\n",
    "    keras.layers.Flatten(input_shape=(28, 28)),\n",
    "    keras.layers.Dense(128, activation='relu'),\n",
    "    keras.layers.Dense(10, activation='softmax')\n",
    "])\n",
    "'''"
   ]
  },
  {
   "cell_type": "markdown",
   "id": "cec579b1",
   "metadata": {},
   "source": [
    "### Depois"
   ]
  },
  {
   "cell_type": "code",
   "execution_count": 13,
   "id": "bcca9bba",
   "metadata": {},
   "outputs": [
    {
     "name": "stdout",
     "output_type": "stream",
     "text": [
      "WARNING:tensorflow:From /home/kelvin/.local/lib/python3.6/site-packages/tensorflow/python/ops/init_ops.py:1251: calling VarianceScaling.__init__ (from tensorflow.python.ops.init_ops) with dtype is deprecated and will be removed in a future version.\n",
      "Instructions for updating:\n",
      "Call initializer instance with the dtype argument instead of passing it to the constructor\n"
     ]
    }
   ],
   "source": [
    "model = keras.Sequential([\n",
    "    keras.layers.Conv2D(28, (3,3), activation='relu', input_shape=(28, 28, 1)),\n",
    "    keras.layers.MaxPooling2D((2,2)),\n",
    "    keras.layers.Conv2D(28, (3,3), activation='relu'),\n",
    "    keras.layers.MaxPooling2D((2,2)),\n",
    "    keras.layers.Conv2D(28, (3,3), activation='relu'),\n",
    "    keras.layers.Flatten(input_shape=(28, 28)),\n",
    "    keras.layers.Dense(128, activation='relu'),\n",
    "    keras.layers.Dense(10, activation='softmax')\n",
    "])"
   ]
  },
  {
   "cell_type": "markdown",
   "id": "2aaf56b2",
   "metadata": {},
   "source": [
    "## Arquitetura do Modelo"
   ]
  },
  {
   "cell_type": "code",
   "execution_count": 14,
   "id": "0adad125",
   "metadata": {},
   "outputs": [
    {
     "name": "stdout",
     "output_type": "stream",
     "text": [
      "Model: \"sequential\"\n",
      "_________________________________________________________________\n",
      "Layer (type)                 Output Shape              Param #   \n",
      "=================================================================\n",
      "conv2d (Conv2D)              (None, 26, 26, 28)        280       \n",
      "_________________________________________________________________\n",
      "max_pooling2d (MaxPooling2D) (None, 13, 13, 28)        0         \n",
      "_________________________________________________________________\n",
      "conv2d_1 (Conv2D)            (None, 11, 11, 28)        7084      \n",
      "_________________________________________________________________\n",
      "max_pooling2d_1 (MaxPooling2 (None, 5, 5, 28)          0         \n",
      "_________________________________________________________________\n",
      "conv2d_2 (Conv2D)            (None, 3, 3, 28)          7084      \n",
      "_________________________________________________________________\n",
      "flatten (Flatten)            (None, 252)               0         \n",
      "_________________________________________________________________\n",
      "dense (Dense)                (None, 128)               32384     \n",
      "_________________________________________________________________\n",
      "dense_1 (Dense)              (None, 10)                1290      \n",
      "=================================================================\n",
      "Total params: 48,122\n",
      "Trainable params: 48,122\n",
      "Non-trainable params: 0\n",
      "_________________________________________________________________\n"
     ]
    }
   ],
   "source": [
    "model.summary()"
   ]
  },
  {
   "cell_type": "markdown",
   "id": "cfd441b6",
   "metadata": {},
   "source": [
    "### A primeira cada da rede, transforma o formato da imagem de um array de duas dimensões para um array de uma dimensão (de 28x28 para 28*28=784). Essa camada não tem parâmetros de aprendizagem, só de formatação dos dados.\n",
    "\n",
    "### Depois dos pixels serem achatados, a rede consiste em mais duas camadas .Dense. A primeira contém 128 nós (ou neurônios). A segunda é uma .Softmax de 10 nós que retorna um array de 10 probabilidades, cuja soma resulta em 1. Cada nó contém um valor que indica a probabilidade de que aquela imagem pertence a uma das 10 classes."
   ]
  },
  {
   "cell_type": "markdown",
   "id": "72cedc6f",
   "metadata": {},
   "source": [
    "## Compile o modelo"
   ]
  },
  {
   "cell_type": "code",
   "execution_count": 15,
   "id": "c06c9f65",
   "metadata": {},
   "outputs": [],
   "source": [
    "model.compile(optimizer='adam', loss='sparse_categorical_crossentropy', metrics=['accuracy'])"
   ]
  },
  {
   "cell_type": "markdown",
   "id": "1f462c41",
   "metadata": {},
   "source": [
    "### Função Loss: Mede o quão precisa o modelo é durante o treinamento. Queremos minimizar a função para guiar o modelo para a direção certa.\n",
    "\n",
    "### Optimizer: Isso é como o modelo se atualiza com base no valor dado que ele vê e sua função Loss.\n",
    "\n",
    "### Métricas: Usadas para monitorar os passos de treinamento e teste. Nesse caso, utilizo acurácia."
   ]
  },
  {
   "cell_type": "markdown",
   "id": "de4f03e0",
   "metadata": {},
   "source": [
    "## Treinando o modelo\n",
    "\n",
    "### Passos para treinar o modelo:\n",
    "\n",
    "### 1 - Alimentar os dados de treinamento (train_images e train_labels).\n",
    "### 2 - O modelo aprende a associar as imagens as labels.\n",
    "### 3 - Perguntamos ao modelo a respeito do conjunto de teste (array test_images). Verificando se as previsões combinaram com as labels do array test_labels"
   ]
  },
  {
   "cell_type": "code",
   "execution_count": 16,
   "id": "75c44c38",
   "metadata": {},
   "outputs": [
    {
     "name": "stdout",
     "output_type": "stream",
     "text": [
      "Epoch 1/10\n",
      "60000/60000 [==============================] - 14s 236us/sample - loss: 0.5255 - acc: 0.8070\n",
      "Epoch 2/10\n",
      "60000/60000 [==============================] - 14s 231us/sample - loss: 0.3441 - acc: 0.8743\n",
      "Epoch 3/10\n",
      "60000/60000 [==============================] - 14s 230us/sample - loss: 0.2963 - acc: 0.8902\n",
      "Epoch 4/10\n",
      "60000/60000 [==============================] - 14s 227us/sample - loss: 0.2703 - acc: 0.8995\n",
      "Epoch 5/10\n",
      "60000/60000 [==============================] - 14s 227us/sample - loss: 0.2516 - acc: 0.9060\n",
      "Epoch 6/10\n",
      "60000/60000 [==============================] - 13s 223us/sample - loss: 0.2349 - acc: 0.9123\n",
      "Epoch 7/10\n",
      "60000/60000 [==============================] - 15s 245us/sample - loss: 0.2211 - acc: 0.9177\n",
      "Epoch 8/10\n",
      "60000/60000 [==============================] - 16s 261us/sample - loss: 0.2073 - acc: 0.9221\n",
      "Epoch 9/10\n",
      "60000/60000 [==============================] - 15s 253us/sample - loss: 0.1959 - acc: 0.9268\n",
      "Epoch 10/10\n",
      "60000/60000 [==============================] - 15s 256us/sample - loss: 0.1849 - acc: 0.9296\n"
     ]
    },
    {
     "data": {
      "text/plain": [
       "<tensorflow.python.keras.callbacks.History at 0x7fa6e7267908>"
      ]
     },
     "execution_count": 16,
     "metadata": {},
     "output_type": "execute_result"
    }
   ],
   "source": [
    "#epoch = Quantidade de iteracao sobre as amostras\n",
    "#history = model.fit(train_images, train_labels, epochs=20)\n",
    "model.fit(train_images, train_labels, epochs=10)"
   ]
  },
  {
   "cell_type": "markdown",
   "id": "70252cdf",
   "metadata": {},
   "source": [
    "### A medida que o modelo treina, as métricas loss e acurácia são mostradas."
   ]
  },
  {
   "cell_type": "markdown",
   "id": "b2a3df1d",
   "metadata": {},
   "source": [
    "## Avaliando a Acurácia"
   ]
  },
  {
   "cell_type": "code",
   "execution_count": 17,
   "id": "b9b0efa7",
   "metadata": {},
   "outputs": [
    {
     "name": "stdout",
     "output_type": "stream",
     "text": [
      "10000/10000 - 1s - loss: 0.2812 - acc: 0.9026\n",
      "Teste Accuracy: 0.9025999904\n"
     ]
    }
   ],
   "source": [
    "#Verbose == a maneira de como desejo ver a saida da rede neural durante o treinamento\n",
    "test_loss, test_acc = model.evaluate(test_images, test_labels, verbose=2)\n",
    "print('Teste Accuracy: %.10f' %(test_acc))"
   ]
  },
  {
   "cell_type": "markdown",
   "id": "a90fd0fd",
   "metadata": {},
   "source": [
    "### Acabou que o a acurácia com o conjunto de testes é um pouco menor do que a acurácia de treinamento. Essa diferença entre as duas acurácias representa um overfitting. \n",
    "\n",
    "### Overfitting é quando o modelo de aprendizado de máquina performou de maneira pior em um conjunto de entradas novas, e não usadas anteriormente, que usando o conjunto de treinamento."
   ]
  },
  {
   "cell_type": "markdown",
   "id": "c3717d94",
   "metadata": {},
   "source": [
    "## Predições"
   ]
  },
  {
   "cell_type": "markdown",
   "id": "47e8abc3",
   "metadata": {},
   "source": [
    "### Com o modelo treinado, usaremos para predições de algumas imagens"
   ]
  },
  {
   "cell_type": "code",
   "execution_count": 18,
   "id": "f53b7fbd",
   "metadata": {},
   "outputs": [
    {
     "name": "stdout",
     "output_type": "stream",
     "text": [
      "[9.3811087e-12 3.8085765e-10 1.0097817e-12 3.6914746e-11 2.2855098e-11\n",
      " 4.2181535e-05 1.8088218e-11 8.0404125e-06 5.7397087e-09 9.9994981e-01]\n",
      "\n",
      "Valor de predicao para cada uma das 10k de imagens\n",
      "(10000, 10)\n"
     ]
    }
   ],
   "source": [
    "#Aqui o modelo previu qual label de cada imagem no conjunto de treinamento\n",
    "predictions = model.predict(test_images)\n",
    "\n",
    "#Vamos olhar a primeira predicao\n",
    "print(predictions[0])\n",
    "\n",
    "print(\"\\nValor de predicao para cada uma das 10k de imagens\")\n",
    "print(predictions.shape)"
   ]
  },
  {
   "cell_type": "markdown",
   "id": "9f89bacc",
   "metadata": {},
   "source": [
    "### A predição é um array de 10 números, que representam a confiança do modelo em dizer qual label (no caso, tipos de roupa) é a respectiva imagem."
   ]
  },
  {
   "cell_type": "code",
   "execution_count": 19,
   "id": "9355f291",
   "metadata": {},
   "outputs": [
    {
     "name": "stdout",
     "output_type": "stream",
     "text": [
      "Valor Maximo: 9 \n",
      "Classe correspondente: Ankle boot\n"
     ]
    }
   ],
   "source": [
    "#Para ver qual o maior valor de cada predicao\n",
    "print(\"Valor Maximo: %d \" %(np.argmax(predictions[0])))\n",
    "\n",
    "#Ou seja, uma bota\n",
    "print(\"Classe correspondente: %s\" %(class_names[np.argmax(predictions[0])]))"
   ]
  },
  {
   "cell_type": "markdown",
   "id": "975c2314",
   "metadata": {},
   "source": [
    "## Criando a matriz de confusão"
   ]
  },
  {
   "cell_type": "markdown",
   "id": "e657cc2f",
   "metadata": {},
   "source": [
    "### Explorando os dados corretos e de predição"
   ]
  },
  {
   "cell_type": "code",
   "execution_count": 20,
   "id": "dfb6bf1d",
   "metadata": {},
   "outputs": [
    {
     "name": "stdout",
     "output_type": "stream",
     "text": [
      "[9 2 1 ... 8 1 5]\n",
      "[9 2 1 ... 8 1 5]\n"
     ]
    }
   ],
   "source": [
    "#Dados corretos\n",
    "print(test_labels)\n",
    "\n",
    "#Dados predictos\n",
    "array_predicts = np.argmax(predictions, axis=1)\n",
    "print(array_predicts)"
   ]
  },
  {
   "cell_type": "markdown",
   "id": "faa16213",
   "metadata": {},
   "source": [
    "#### Podemos ver que as três primeiras e três últimas predições estão corretas, comparando o vetor de labels e de predições."
   ]
  },
  {
   "cell_type": "markdown",
   "id": "ab7adc5e",
   "metadata": {},
   "source": [
    "### Bibliotecas utilizadas para o plot da matriz de confusão"
   ]
  },
  {
   "cell_type": "code",
   "execution_count": 21,
   "id": "8d6eab5b",
   "metadata": {},
   "outputs": [],
   "source": [
    "from sklearn.metrics import accuracy_score\n",
    "from sklearn.metrics import confusion_matrix\n",
    "from mlxtend.plotting import plot_confusion_matrix"
   ]
  },
  {
   "cell_type": "code",
   "execution_count": 22,
   "id": "4ebf9589",
   "metadata": {},
   "outputs": [
    {
     "name": "stdout",
     "output_type": "stream",
     "text": [
      "Tensor(\"ArgMax:0\", shape=(10000,), dtype=int64)\n"
     ]
    }
   ],
   "source": [
    "predict_categories = tf.argmax(predictions, axis=1)\n",
    "print(predict_categories)"
   ]
  },
  {
   "cell_type": "code",
   "execution_count": 23,
   "id": "c6c87a57",
   "metadata": {},
   "outputs": [
    {
     "data": {
      "text/plain": [
       "0.9026"
      ]
     },
     "execution_count": 23,
     "metadata": {},
     "output_type": "execute_result"
    }
   ],
   "source": [
    "accuracy_score(test_labels, array_predicts)"
   ]
  },
  {
   "cell_type": "code",
   "execution_count": 24,
   "id": "4e0b2750",
   "metadata": {},
   "outputs": [
    {
     "data": {
      "text/plain": [
       "(<Figure size 720x720 with 1 Axes>,\n",
       " <AxesSubplot:xlabel='predicted label', ylabel='true label'>)"
      ]
     },
     "execution_count": 24,
     "metadata": {},
     "output_type": "execute_result"
    },
    {
     "data": {
      "image/png": "[encoded data removed]",
      "text/plain": [
       "<Figure size 720x720 with 1 Axes>"
      ]
     },
     "metadata": {
      "needs_background": "light"
     },
     "output_type": "display_data"
    }
   ],
   "source": [
    "mat = confusion_matrix(test_labels, array_predicts)\n",
    "#Matriz / Tamanho da figura / Nome das labels / Normalizacao\n",
    "plot_confusion_matrix(conf_mat=mat, figsize=(10, 10), class_names=class_names, show_normed=True)"
   ]
  },
  {
   "cell_type": "markdown",
   "id": "77f8625b",
   "metadata": {},
   "source": [
    "### Referências"
   ]
  },
  {
   "cell_type": "markdown",
   "id": "750bfb79",
   "metadata": {},
   "source": [
    "### -> Material disponibilizado no AVA pela professora Karin.\n",
    "\n",
    "### -> Tutorial CNN, Criando e classificando uma rede neural: https://www.tensorflow.org/tutorials/keras/classification?hl=pt-br\n",
    "\n",
    "### -> Tutorial Para plotar a matriz de confusão: https://youtu.be/SToqP9V9y7Q\n",
    "\n",
    "### -> Dentre outras pesquisas na web a respeito do assunto.\n",
    "\n",
    "### -> Tutorial para adaptar para uma rede neural convolucional: https://www.tensorflow.org/tutorials/images/cnn"
   ]
  }
 ],
 "metadata": {
  "kernelspec": {
   "display_name": "Python 3",
   "language": "python",
   "name": "python3"
  },
  "language_info": {
   "codemirror_mode": {
    "name": "ipython",
    "version": 3
   },
   "file_extension": ".py",
   "mimetype": "text/x-python",
   "name": "python",
   "nbconvert_exporter": "python",
   "pygments_lexer": "ipython3",
   "version": "3.6.9"
  }
 },
 "nbformat": 4,
 "nbformat_minor": 5
}
